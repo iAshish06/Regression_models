{
 "cells": [
  {
   "cell_type": "code",
   "execution_count": 27,
   "metadata": {},
   "outputs": [],
   "source": [
    "import pandas as pd\n",
    "import numpy as np\n",
    "from scipy import stats\n",
    "import matplotlib.pyplot as plt\n",
    "import statsmodels.api as sm"
   ]
  },
  {
   "cell_type": "code",
   "execution_count": 127,
   "metadata": {},
   "outputs": [
    {
     "data": {
      "text/html": [
       "<div>\n",
       "<style scoped>\n",
       "    .dataframe tbody tr th:only-of-type {\n",
       "        vertical-align: middle;\n",
       "    }\n",
       "\n",
       "    .dataframe tbody tr th {\n",
       "        vertical-align: top;\n",
       "    }\n",
       "\n",
       "    .dataframe thead th {\n",
       "        text-align: right;\n",
       "    }\n",
       "</style>\n",
       "<table border=\"1\" class=\"dataframe\">\n",
       "  <thead>\n",
       "    <tr style=\"text-align: right;\">\n",
       "      <th></th>\n",
       "      <th>observation_date</th>\n",
       "      <th>RPI</th>\n",
       "      <th>W875RX1</th>\n",
       "      <th>DPCERA3M086SBEA</th>\n",
       "      <th>CMRMTSPLx</th>\n",
       "      <th>RETAIL</th>\n",
       "      <th>INDPRO</th>\n",
       "      <th>IPFPNSS</th>\n",
       "      <th>IPFINAL</th>\n",
       "      <th>IPCONGD</th>\n",
       "      <th>...</th>\n",
       "      <th>DSERRG3M086SBEA</th>\n",
       "      <th>CES0600000008</th>\n",
       "      <th>CES2000000008</th>\n",
       "      <th>CES3000000008</th>\n",
       "      <th>UMCSENTx</th>\n",
       "      <th>MZMSL</th>\n",
       "      <th>DTCOLNVHFNM</th>\n",
       "      <th>DTCTHFNM</th>\n",
       "      <th>INVEST</th>\n",
       "      <th>VXOCLSx</th>\n",
       "    </tr>\n",
       "  </thead>\n",
       "  <tbody>\n",
       "    <tr>\n",
       "      <th>0</th>\n",
       "      <td>1/1/1959</td>\n",
       "      <td>2442.158</td>\n",
       "      <td>2293.2</td>\n",
       "      <td>17.272</td>\n",
       "      <td>384920.447</td>\n",
       "      <td>18235.77392</td>\n",
       "      <td>22.0733</td>\n",
       "      <td>23.4027</td>\n",
       "      <td>22.2858</td>\n",
       "      <td>31.5688</td>\n",
       "      <td>...</td>\n",
       "      <td>11.326</td>\n",
       "      <td>2.13</td>\n",
       "      <td>2.45</td>\n",
       "      <td>2.04</td>\n",
       "      <td>NaN</td>\n",
       "      <td>274.9</td>\n",
       "      <td>6476.0</td>\n",
       "      <td>12298.0</td>\n",
       "      <td>84.2043</td>\n",
       "      <td>NaN</td>\n",
       "    </tr>\n",
       "  </tbody>\n",
       "</table>\n",
       "<p>1 rows × 129 columns</p>\n",
       "</div>"
      ],
      "text/plain": [
       "  observation_date       RPI  W875RX1  DPCERA3M086SBEA   CMRMTSPLx   \n",
       "0         1/1/1959  2442.158   2293.2           17.272  384920.447  \\\n",
       "\n",
       "        RETAIL   INDPRO  IPFPNSS  IPFINAL  IPCONGD  ...  DSERRG3M086SBEA   \n",
       "0  18235.77392  22.0733  23.4027  22.2858  31.5688  ...           11.326  \\\n",
       "\n",
       "   CES0600000008  CES2000000008  CES3000000008  UMCSENTx  MZMSL  DTCOLNVHFNM   \n",
       "0           2.13           2.45           2.04       NaN  274.9       6476.0  \\\n",
       "\n",
       "   DTCTHFNM   INVEST  VXOCLSx  \n",
       "0   12298.0  84.2043      NaN  \n",
       "\n",
       "[1 rows x 129 columns]"
      ]
     },
     "execution_count": 127,
     "metadata": {},
     "output_type": "execute_result"
    }
   ],
   "source": [
    "dataset = pd.read_csv('US Macro/US_MACRO110522.csv')\n",
    "dataset.head(1)"
   ]
  },
  {
   "cell_type": "code",
   "execution_count": 128,
   "metadata": {},
   "outputs": [
    {
     "data": {
      "text/plain": [
       "count       399.000000\n",
       "mean     116139.634762\n",
       "std      119196.897362\n",
       "min        6508.000000\n",
       "25%       10516.500000\n",
       "50%       67959.000000\n",
       "75%      255821.565000\n",
       "max      370997.590000\n",
       "Name: DTCOLNVHFNM, dtype: float64"
      ]
     },
     "execution_count": 128,
     "metadata": {},
     "output_type": "execute_result"
    }
   ],
   "source": [
    "dataset = dataset['DTCOLNVHFNM'].sample(400)\n",
    "dataset.describe()"
   ]
  },
  {
   "cell_type": "code",
   "execution_count": 129,
   "metadata": {},
   "outputs": [
    {
     "data": {
      "text/plain": [
       "<AxesSubplot:>"
      ]
     },
     "execution_count": 129,
     "metadata": {},
     "output_type": "execute_result"
    },
    {
     "data": {
      "image/png": "[encoded data removed]",
      "text/plain": [
       "<Figure size 640x480 with 1 Axes>"
      ]
     },
     "metadata": {},
     "output_type": "display_data"
    }
   ],
   "source": [
    "np.log(dataset).hist()"
   ]
  },
  {
   "cell_type": "code",
   "execution_count": 130,
   "metadata": {},
   "outputs": [],
   "source": [
    "mean = dataset.mean()\n",
    "std = dataset.std()\n",
    "\n",
    "upper_limit_1 = mean + (1 * std)\n",
    "lower_limit_1 = mean - (1 * std)\n",
    "\n",
    "upper_limit_2 = mean + (2*std)\n",
    "lower_limit_2 = mean - (2*std)\n",
    "\n",
    "upper_limit_3 = mean + (3*std)\n",
    "lower_limit_3 = mean - (3 * std)\n"
   ]
  },
  {
   "cell_type": "code",
   "execution_count": 131,
   "metadata": {},
   "outputs": [
    {
     "data": {
      "text/plain": [
       "0.7375"
      ]
     },
     "execution_count": 131,
     "metadata": {},
     "output_type": "execute_result"
    }
   ],
   "source": [
    "#confidence Interval Formulation\n",
    "\n",
    "Interval_1 = ((dataset <= upper_limit_1) & (dataset >= lower_limit_1)).mean()\n",
    "Interval_1"
   ]
  },
  {
   "cell_type": "code",
   "execution_count": 132,
   "metadata": {},
   "outputs": [
    {
     "data": {
      "text/plain": [
       "0.98"
      ]
     },
     "execution_count": 132,
     "metadata": {},
     "output_type": "execute_result"
    }
   ],
   "source": [
    "interval_2 = ((dataset <= upper_limit_2) & (dataset >= lower_limit_2)).mean()\n",
    "interval_2"
   ]
  },
  {
   "cell_type": "code",
   "execution_count": 133,
   "metadata": {},
   "outputs": [
    {
     "data": {
      "text/plain": [
       "0.9975"
      ]
     },
     "execution_count": 133,
     "metadata": {},
     "output_type": "execute_result"
    }
   ],
   "source": [
    "interval_3 = ((dataset <= upper_limit_3) & (dataset >= lower_limit_3)).mean()\n",
    "interval_3"
   ]
  }
 ],
 "metadata": {
  "kernelspec": {
   "display_name": "Python 3",
   "language": "python",
   "name": "python3"
  },
  "language_info": {
   "codemirror_mode": {
    "name": "ipython",
    "version": 3
   },
   "file_extension": ".py",
   "mimetype": "text/x-python",
   "name": "python",
   "nbconvert_exporter": "python",
   "pygments_lexer": "ipython3",
   "version": "3.10.5"
  },
  "orig_nbformat": 4
 },
 "nbformat": 4,
 "nbformat_minor": 2
}
