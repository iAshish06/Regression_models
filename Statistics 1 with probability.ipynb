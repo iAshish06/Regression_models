{
 "cells": [
  {
   "cell_type": "code",
   "execution_count": 50,
   "metadata": {},
   "outputs": [],
   "source": [
    "import pandas as pd\n",
    "import numpy as np\n",
    "from scipy import stats\n",
    "import matplotlib.pyplot as plt\n",
    "import statsmodels.api as sm\n",
    "import seaborn as sns"
   ]
  },
  {
   "cell_type": "code",
   "execution_count": 2,
   "metadata": {},
   "outputs": [
    {
     "data": {
      "text/html": [
       "<div>\n",
       "<style scoped>\n",
       "    .dataframe tbody tr th:only-of-type {\n",
       "        vertical-align: middle;\n",
       "    }\n",
       "\n",
       "    .dataframe tbody tr th {\n",
       "        vertical-align: top;\n",
       "    }\n",
       "\n",
       "    .dataframe thead th {\n",
       "        text-align: right;\n",
       "    }\n",
       "</style>\n",
       "<table border=\"1\" class=\"dataframe\">\n",
       "  <thead>\n",
       "    <tr style=\"text-align: right;\">\n",
       "      <th></th>\n",
       "      <th>country_or_area</th>\n",
       "      <th>commodity_transaction</th>\n",
       "      <th>year</th>\n",
       "      <th>unit</th>\n",
       "      <th>quantity</th>\n",
       "      <th>quantity_footnotes</th>\n",
       "      <th>category</th>\n",
       "    </tr>\n",
       "  </thead>\n",
       "  <tbody>\n",
       "    <tr>\n",
       "      <th>931184</th>\n",
       "      <td>Austria</td>\n",
       "      <td>Other liquid biofuels - Transformation in CHP ...</td>\n",
       "      <td>2014</td>\n",
       "      <td>Metric tons,  thousand</td>\n",
       "      <td>0.00</td>\n",
       "      <td>NaN</td>\n",
       "      <td>other_liquid_biofuels</td>\n",
       "    </tr>\n",
       "    <tr>\n",
       "      <th>882480</th>\n",
       "      <td>Kazakhstan</td>\n",
       "      <td>Other bituminous coal - Transformation in elec...</td>\n",
       "      <td>1994</td>\n",
       "      <td>Metric tons,  thousand</td>\n",
       "      <td>51680.00</td>\n",
       "      <td>NaN</td>\n",
       "      <td>other_bituminous_coal</td>\n",
       "    </tr>\n",
       "    <tr>\n",
       "      <th>53541</th>\n",
       "      <td>Slovenia</td>\n",
       "      <td>Biogases - Transformation in CHP plants - auto...</td>\n",
       "      <td>2008</td>\n",
       "      <td>Terajoules</td>\n",
       "      <td>210.00</td>\n",
       "      <td>NaN</td>\n",
       "      <td>biogases</td>\n",
       "    </tr>\n",
       "    <tr>\n",
       "      <th>558881</th>\n",
       "      <td>Slovenia</td>\n",
       "      <td>Heat - Own use by coal mines</td>\n",
       "      <td>2004</td>\n",
       "      <td>Terajoules</td>\n",
       "      <td>84.00</td>\n",
       "      <td>NaN</td>\n",
       "      <td>heat</td>\n",
       "    </tr>\n",
       "    <tr>\n",
       "      <th>962152</th>\n",
       "      <td>Spain</td>\n",
       "      <td>Vegetal waste - Final consumption</td>\n",
       "      <td>2001</td>\n",
       "      <td>Terajoules</td>\n",
       "      <td>23704.00</td>\n",
       "      <td>1.0</td>\n",
       "      <td>other_vegetal_material_and_residues</td>\n",
       "    </tr>\n",
       "    <tr>\n",
       "      <th>610396</th>\n",
       "      <td>Slovakia</td>\n",
       "      <td>Lignite - Consumption by agriculture, forestry...</td>\n",
       "      <td>2011</td>\n",
       "      <td>Metric tons,  thousand</td>\n",
       "      <td>2.00</td>\n",
       "      <td>NaN</td>\n",
       "      <td>lignite</td>\n",
       "    </tr>\n",
       "    <tr>\n",
       "      <th>1105036</th>\n",
       "      <td>Honduras</td>\n",
       "      <td>Electricity - Gross production</td>\n",
       "      <td>2008</td>\n",
       "      <td>Kilowatt-hours, million</td>\n",
       "      <td>6549.00</td>\n",
       "      <td>NaN</td>\n",
       "      <td>total_electricity</td>\n",
       "    </tr>\n",
       "    <tr>\n",
       "      <th>465468</th>\n",
       "      <td>Malaysia</td>\n",
       "      <td>Gas Oil/ Diesel Oil - Total energy supply</td>\n",
       "      <td>2007</td>\n",
       "      <td>Metric tons,  thousand</td>\n",
       "      <td>9319.51</td>\n",
       "      <td>NaN</td>\n",
       "      <td>gas_oil_diesel_oil</td>\n",
       "    </tr>\n",
       "    <tr>\n",
       "      <th>235948</th>\n",
       "      <td>Costa Rica</td>\n",
       "      <td>Electricity - total net installed capacity of ...</td>\n",
       "      <td>2014</td>\n",
       "      <td>Kilowatts,  thousand</td>\n",
       "      <td>246.00</td>\n",
       "      <td>NaN</td>\n",
       "      <td>electricity_net_installed_capacity_of_electric...</td>\n",
       "    </tr>\n",
       "    <tr>\n",
       "      <th>835248</th>\n",
       "      <td>Belarus</td>\n",
       "      <td>Natural gas (including LNG) - total resources</td>\n",
       "      <td>2005</td>\n",
       "      <td>Terajoules</td>\n",
       "      <td>117063.00</td>\n",
       "      <td>NaN</td>\n",
       "      <td>natural_gas_including_lng</td>\n",
       "    </tr>\n",
       "  </tbody>\n",
       "</table>\n",
       "</div>"
      ],
      "text/plain": [
       "        country_or_area                              commodity_transaction   \n",
       "931184          Austria  Other liquid biofuels - Transformation in CHP ...  \\\n",
       "882480       Kazakhstan  Other bituminous coal - Transformation in elec...   \n",
       "53541          Slovenia  Biogases - Transformation in CHP plants - auto...   \n",
       "558881         Slovenia                       Heat - Own use by coal mines   \n",
       "962152            Spain                  Vegetal waste - Final consumption   \n",
       "610396         Slovakia  Lignite - Consumption by agriculture, forestry...   \n",
       "1105036        Honduras                     Electricity - Gross production   \n",
       "465468         Malaysia          Gas Oil/ Diesel Oil - Total energy supply   \n",
       "235948       Costa Rica  Electricity - total net installed capacity of ...   \n",
       "835248          Belarus      Natural gas (including LNG) - total resources   \n",
       "\n",
       "         year                     unit   quantity  quantity_footnotes   \n",
       "931184   2014   Metric tons,  thousand       0.00                 NaN  \\\n",
       "882480   1994   Metric tons,  thousand   51680.00                 NaN   \n",
       "53541    2008               Terajoules     210.00                 NaN   \n",
       "558881   2004               Terajoules      84.00                 NaN   \n",
       "962152   2001               Terajoules   23704.00                 1.0   \n",
       "610396   2011   Metric tons,  thousand       2.00                 NaN   \n",
       "1105036  2008  Kilowatt-hours, million    6549.00                 NaN   \n",
       "465468   2007   Metric tons,  thousand    9319.51                 NaN   \n",
       "235948   2014     Kilowatts,  thousand     246.00                 NaN   \n",
       "835248   2005               Terajoules  117063.00                 NaN   \n",
       "\n",
       "                                                  category  \n",
       "931184                               other_liquid_biofuels  \n",
       "882480                               other_bituminous_coal  \n",
       "53541                                             biogases  \n",
       "558881                                                heat  \n",
       "962152                 other_vegetal_material_and_residues  \n",
       "610396                                             lignite  \n",
       "1105036                                  total_electricity  \n",
       "465468                                  gas_oil_diesel_oil  \n",
       "235948   electricity_net_installed_capacity_of_electric...  \n",
       "835248                           natural_gas_including_lng  "
      ]
     },
     "execution_count": 2,
     "metadata": {},
     "output_type": "execute_result"
    }
   ],
   "source": [
    "dataset = pd.read_csv('Energy Stastics/all_energy_statistics.csv').sample(2000, replace = True)\n",
    "dataset.head(10)"
   ]
  },
  {
   "cell_type": "code",
   "execution_count": 3,
   "metadata": {},
   "outputs": [],
   "source": [
    "#dataset['quantity'].max()"
   ]
  },
  {
   "cell_type": "code",
   "execution_count": 4,
   "metadata": {},
   "outputs": [
    {
     "data": {
      "text/plain": [
       "count    2.000000e+03\n",
       "mean     6.098829e+04\n",
       "std      1.544943e+06\n",
       "min     -4.260000e+02\n",
       "25%      1.400000e+01\n",
       "50%      2.025000e+02\n",
       "75%      2.313250e+03\n",
       "max      6.465000e+07\n",
       "Name: quantity, dtype: float64"
      ]
     },
     "execution_count": 4,
     "metadata": {},
     "output_type": "execute_result"
    }
   ],
   "source": [
    "dataset['quantity'].describe()"
   ]
  },
  {
   "cell_type": "code",
   "execution_count": 72,
   "metadata": {},
   "outputs": [],
   "source": [
    "dataset = dataset.sample(2000, replace=True, random_state=9)"
   ]
  },
  {
   "cell_type": "code",
   "execution_count": 82,
   "metadata": {},
   "outputs": [
    {
     "data": {
      "text/plain": [
       "<AxesSubplot:>"
      ]
     },
     "execution_count": 82,
     "metadata": {},
     "output_type": "execute_result"
    },
    {
     "data": {
      "image/png": "[encoded data removed]",
      "text/plain": [
       "<Figure size 640x480 with 1 Axes>"
      ]
     },
     "metadata": {},
     "output_type": "display_data"
    }
   ],
   "source": [
    "np.log(dataset['quantity']).hist()"
   ]
  },
  {
   "cell_type": "code",
   "execution_count": 83,
   "metadata": {},
   "outputs": [],
   "source": [
    "mean = dataset['quantity'].mean()\n",
    "std = dataset['quantity'].std()\n",
    "lower_limit_1 = mean - (1*std)\n",
    "upper_limit_1 = mean + (1*std)\n",
    "\n",
    "lower_limit_2 = mean - (2*std)\n",
    "upper_limit_2 = mean + (2*std)\n",
    "\n",
    "lower_limit_3 = mean - (3*std)\n",
    "upper_limit_3 = mean + (3*std)"
   ]
  },
  {
   "cell_type": "code",
   "execution_count": 84,
   "metadata": {},
   "outputs": [
    {
     "data": {
      "text/plain": [
       "0.7555"
      ]
     },
     "execution_count": 84,
     "metadata": {},
     "output_type": "execute_result"
    }
   ],
   "source": [
    "((dataset['quantity'] >= lower_limit_1) & (dataset['quantity'] <= upper_limit_1)).mean()"
   ]
  },
  {
   "cell_type": "code",
   "execution_count": 85,
   "metadata": {},
   "outputs": [
    {
     "data": {
      "text/plain": [
       "1.0"
      ]
     },
     "execution_count": 85,
     "metadata": {},
     "output_type": "execute_result"
    }
   ],
   "source": [
    "((dataset['quantity'] >= lower_limit_2) & (dataset['quantity'] <= upper_limit_2)).mean()"
   ]
  },
  {
   "cell_type": "code",
   "execution_count": 86,
   "metadata": {},
   "outputs": [
    {
     "data": {
      "text/plain": [
       "1.0"
      ]
     },
     "execution_count": 86,
     "metadata": {},
     "output_type": "execute_result"
    }
   ],
   "source": [
    "((dataset['quantity'] >= lower_limit_3) & (dataset['quantity'] <= upper_limit_3)).mean()"
   ]
  },
  {
   "cell_type": "code",
   "execution_count": 87,
   "metadata": {},
   "outputs": [
    {
     "data": {
      "text/html": [
       "<div>\n",
       "<style scoped>\n",
       "    .dataframe tbody tr th:only-of-type {\n",
       "        vertical-align: middle;\n",
       "    }\n",
       "\n",
       "    .dataframe tbody tr th {\n",
       "        vertical-align: top;\n",
       "    }\n",
       "\n",
       "    .dataframe thead th {\n",
       "        text-align: right;\n",
       "    }\n",
       "</style>\n",
       "<table border=\"1\" class=\"dataframe\">\n",
       "  <thead>\n",
       "    <tr style=\"text-align: right;\">\n",
       "      <th></th>\n",
       "      <th>country_or_area</th>\n",
       "      <th>commodity_transaction</th>\n",
       "      <th>year</th>\n",
       "      <th>unit</th>\n",
       "      <th>quantity</th>\n",
       "      <th>quantity_footnotes</th>\n",
       "      <th>category</th>\n",
       "      <th>Z_score</th>\n",
       "    </tr>\n",
       "  </thead>\n",
       "  <tbody>\n",
       "    <tr>\n",
       "      <th>317548</th>\n",
       "      <td>Guinea-Bissau</td>\n",
       "      <td>Fuel oil - Total energy supply</td>\n",
       "      <td>2008</td>\n",
       "      <td>Metric tons,  thousand</td>\n",
       "      <td>27.75</td>\n",
       "      <td>1.0</td>\n",
       "      <td>fuel_oil</td>\n",
       "      <td>-0.641329</td>\n",
       "    </tr>\n",
       "    <tr>\n",
       "      <th>1043157</th>\n",
       "      <td>Austria</td>\n",
       "      <td>Electricity - Consumption by construction</td>\n",
       "      <td>2004</td>\n",
       "      <td>Kilowatt-hours, million</td>\n",
       "      <td>646.00</td>\n",
       "      <td>NaN</td>\n",
       "      <td>total_electricity</td>\n",
       "      <td>1.662963</td>\n",
       "    </tr>\n",
       "    <tr>\n",
       "      <th>317548</th>\n",
       "      <td>Guinea-Bissau</td>\n",
       "      <td>Fuel oil - Total energy supply</td>\n",
       "      <td>2008</td>\n",
       "      <td>Metric tons,  thousand</td>\n",
       "      <td>27.75</td>\n",
       "      <td>1.0</td>\n",
       "      <td>fuel_oil</td>\n",
       "      <td>-0.641329</td>\n",
       "    </tr>\n",
       "    <tr>\n",
       "      <th>300487</th>\n",
       "      <td>New Caledonia</td>\n",
       "      <td>Fuel oil - Imports</td>\n",
       "      <td>1991</td>\n",
       "      <td>Metric tons,  thousand</td>\n",
       "      <td>276.00</td>\n",
       "      <td>NaN</td>\n",
       "      <td>fuel_oil</td>\n",
       "      <td>0.283929</td>\n",
       "    </tr>\n",
       "    <tr>\n",
       "      <th>923995</th>\n",
       "      <td>Tunisia</td>\n",
       "      <td>Other kerosene - Stock changes</td>\n",
       "      <td>2010</td>\n",
       "      <td>Metric tons,  thousand</td>\n",
       "      <td>7.00</td>\n",
       "      <td>NaN</td>\n",
       "      <td>other_kerosene</td>\n",
       "      <td>-0.718667</td>\n",
       "    </tr>\n",
       "  </tbody>\n",
       "</table>\n",
       "</div>"
      ],
      "text/plain": [
       "        country_or_area                      commodity_transaction  year   \n",
       "317548    Guinea-Bissau             Fuel oil - Total energy supply  2008  \\\n",
       "1043157         Austria  Electricity - Consumption by construction  2004   \n",
       "317548    Guinea-Bissau             Fuel oil - Total energy supply  2008   \n",
       "300487    New Caledonia                         Fuel oil - Imports  1991   \n",
       "923995          Tunisia             Other kerosene - Stock changes  2010   \n",
       "\n",
       "                            unit  quantity  quantity_footnotes   \n",
       "317548    Metric tons,  thousand     27.75                 1.0  \\\n",
       "1043157  Kilowatt-hours, million    646.00                 NaN   \n",
       "317548    Metric tons,  thousand     27.75                 1.0   \n",
       "300487    Metric tons,  thousand    276.00                 NaN   \n",
       "923995    Metric tons,  thousand      7.00                 NaN   \n",
       "\n",
       "                  category   Z_score  \n",
       "317548            fuel_oil -0.641329  \n",
       "1043157  total_electricity  1.662963  \n",
       "317548            fuel_oil -0.641329  \n",
       "300487            fuel_oil  0.283929  \n",
       "923995      other_kerosene -0.718667  "
      ]
     },
     "execution_count": 87,
     "metadata": {},
     "output_type": "execute_result"
    }
   ],
   "source": [
    "dataset['Z_score'] = stats.zscore(dataset['quantity'], axis=0)\n",
    "dataset.head(5) "
   ]
  },
  {
   "cell_type": "code",
   "execution_count": 88,
   "metadata": {},
   "outputs": [
    {
     "data": {
      "text/html": [
       "<div>\n",
       "<style scoped>\n",
       "    .dataframe tbody tr th:only-of-type {\n",
       "        vertical-align: middle;\n",
       "    }\n",
       "\n",
       "    .dataframe tbody tr th {\n",
       "        vertical-align: top;\n",
       "    }\n",
       "\n",
       "    .dataframe thead th {\n",
       "        text-align: right;\n",
       "    }\n",
       "</style>\n",
       "<table border=\"1\" class=\"dataframe\">\n",
       "  <thead>\n",
       "    <tr style=\"text-align: right;\">\n",
       "      <th></th>\n",
       "      <th>country_or_area</th>\n",
       "      <th>commodity_transaction</th>\n",
       "      <th>year</th>\n",
       "      <th>unit</th>\n",
       "      <th>quantity</th>\n",
       "      <th>quantity_footnotes</th>\n",
       "      <th>category</th>\n",
       "      <th>Z_score</th>\n",
       "    </tr>\n",
       "  </thead>\n",
       "  <tbody>\n",
       "  </tbody>\n",
       "</table>\n",
       "</div>"
      ],
      "text/plain": [
       "Empty DataFrame\n",
       "Columns: [country_or_area, commodity_transaction, year, unit, quantity, quantity_footnotes, category, Z_score]\n",
       "Index: []"
      ]
     },
     "execution_count": 88,
     "metadata": {},
     "output_type": "execute_result"
    }
   ],
   "source": [
    "dataset [(dataset['Z_score'] < -3) | ((dataset['Z_score'] > 3))]"
   ]
  }
 ],
 "metadata": {
  "kernelspec": {
   "display_name": "Python 3",
   "language": "python",
   "name": "python3"
  },
  "language_info": {
   "codemirror_mode": {
    "name": "ipython",
    "version": 3
   },
   "file_extension": ".py",
   "mimetype": "text/x-python",
   "name": "python",
   "nbconvert_exporter": "python",
   "pygments_lexer": "ipython3",
   "version": "3.10.5"
  },
  "orig_nbformat": 4
 },
 "nbformat": 4,
 "nbformat_minor": 2
}
