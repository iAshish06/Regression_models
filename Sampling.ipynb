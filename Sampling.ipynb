{
 "cells": [
  {
   "cell_type": "code",
   "execution_count": 1,
   "metadata": {},
   "outputs": [],
   "source": [
    "import pandas as pd\n",
    "import numpy as np\n",
    "from scipy import stats\n",
    "import matplotlib.pyplot as plt\n",
    "import statsmodels.api as sm"
   ]
  },
  {
   "cell_type": "code",
   "execution_count": 30,
   "metadata": {},
   "outputs": [],
   "source": [
    "sample_data_1 = pd.read_csv('C:/Users/abc/Desktop/Folders/Python files/Dataset/Energy Stastics/all_energy_statistics.csv').sample(50, replace = True, random_state=101)\n",
    "sample_data_2 = pd.read_csv('C:/Users/abc/Desktop/Folders/Python files/Dataset/Energy Stastics/all_energy_statistics.csv').sample(50, replace = True, random_state=3202)\n",
    "sample_data_3 = pd.read_csv('C:/Users/abc/Desktop/Folders/Python files/Dataset/Energy Stastics/all_energy_statistics.csv').sample(50, replace = True, random_state=7003)\n",
    "sample_data_4 = pd.read_csv('C:/Users/abc/Desktop/Folders/Python files/Dataset/Energy Stastics/all_energy_statistics.csv').sample(50, replace = True, random_state=1904)"
   ]
  },
  {
   "cell_type": "code",
   "execution_count": 31,
   "metadata": {},
   "outputs": [
    {
     "name": "stdout",
     "output_type": "stream",
     "text": [
      "estimate_1:  232539.39017887245\n",
      "estimate_2:  52132.62035394707\n",
      "estimate_3:  29573.67895038\n",
      "estimate_4:  2528.6765009399996\n"
     ]
    },
    {
     "data": {
      "text/plain": [
       "79193.59149603489"
      ]
     },
     "execution_count": 31,
     "metadata": {},
     "output_type": "execute_result"
    }
   ],
   "source": [
    "estimate_1 = sample_data_1['quantity'].mean()\n",
    "estimate_2 = sample_data_2['quantity'].mean()\n",
    "estimate_3 = sample_data_3['quantity'].mean()\n",
    "estimate_4 = sample_data_4['quantity'].mean()\n",
    "\n",
    "print(\"estimate_1: \", estimate_1)\n",
    "print(\"estimate_2: \", estimate_2)\n",
    "print(\"estimate_3: \", estimate_3)\n",
    "print(\"estimate_4: \", estimate_4)\n",
    "\n",
    "mean = (estimate_1 + estimate_2 + estimate_3 + estimate_4)/4\n",
    "mean"
   ]
  },
  {
   "cell_type": "code",
   "execution_count": 29,
   "metadata": {},
   "outputs": [],
   "source": [
    "estimate_list = []\n",
    "for i in range(1000):\n",
    "    estimate_list.append(dataset['quantity'].sample(n=20, replace = True).mean())\n",
    "estimate_df = pd.DataFrame(data = {'Estimate: ': estimate_list})\n"
   ]
  },
  {
   "cell_type": "code",
   "execution_count": 22,
   "metadata": {},
   "outputs": [
    {
     "data": {
      "text/plain": [
       "Estimate:     27686.140435\n",
       "dtype: float64"
      ]
     },
     "execution_count": 22,
     "metadata": {},
     "output_type": "execute_result"
    }
   ],
   "source": [
    "mean_sample_means = estimate_df.mean()\n",
    "mean_sample_means"
   ]
  }
 ],
 "metadata": {
  "kernelspec": {
   "display_name": "Python 3",
   "language": "python",
   "name": "python3"
  },
  "language_info": {
   "codemirror_mode": {
    "name": "ipython",
    "version": 3
   },
   "file_extension": ".py",
   "mimetype": "text/x-python",
   "name": "python",
   "nbconvert_exporter": "python",
   "pygments_lexer": "ipython3",
   "version": "3.10.5"
  },
  "orig_nbformat": 4
 },
 "nbformat": 4,
 "nbformat_minor": 2
}
